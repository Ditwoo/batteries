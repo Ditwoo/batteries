{
 "cells": [
  {
   "cell_type": "code",
   "execution_count": null,
   "metadata": {
    "colab": {
     "base_uri": "https://localhost:8080/",
     "height": 71
    },
    "colab_type": "code",
    "id": "zNch7EsrSEWw",
    "outputId": "38b7a464-690d-4342-b046-5e9823fac5b0"
   },
   "outputs": [
    {
     "name": "stderr",
     "output_type": "stream",
     "text": [
      "/usr/local/lib/python3.6/dist-packages/statsmodels/tools/_testing.py:19: FutureWarning: pandas.util.testing is deprecated. Use the functions in the public API at pandas.testing instead.\n",
      "  import pandas.util.testing as tm\n"
     ]
    }
   ],
   "source": [
    "import math\n",
    "import random\n",
    "\n",
    "import numpy as np\n",
    "\n",
    "import torch\n",
    "import torch.nn as nn\n",
    "import torch.nn.functional as F\n",
    "import torch.optim as optim\n",
    "from torch.nn import Parameter\n",
    "from torch.utils.data import DataLoader\n",
    "\n",
    "from torchvision.datasets import MNIST\n",
    "from torchvision.transforms import Compose, Normalize, ToTensor\n",
    "\n",
    "import matplotlib.pyplot as plt\n",
    "import seaborn as sbn\n",
    "\n",
    "%matplotlib inline"
   ]
  },
  {
   "cell_type": "code",
   "execution_count": null,
   "metadata": {
    "colab": {
     "base_uri": "https://localhost:8080/",
     "height": 34
    },
    "colab_type": "code",
    "id": "vPEZ1j2jTycJ",
    "outputId": "3716d12e-0f1d-44bf-81e2-853da3fd8d4e"
   },
   "outputs": [
    {
     "name": "stdout",
     "output_type": "stream",
     "text": [
      "Using 'cuda:0'!\n"
     ]
    }
   ],
   "source": [
    "torch.backends.cudnn.deterministic = True\n",
    "torch.backends.cudnn.benchmark = True\n",
    "\n",
    "device = torch.device(\"cuda:0\" if torch.cuda.is_available() else \"cpu\")\n",
    "\n",
    "print(f\"Using '{device}'!\")"
   ]
  },
  {
   "cell_type": "code",
   "execution_count": null,
   "metadata": {
    "colab": {},
    "colab_type": "code",
    "id": "JOm4e4UTUZcb"
   },
   "outputs": [],
   "source": [
    "def t2d(tensor, device):\n",
    "    \"\"\"Move tensors to a specified device.\n",
    "    Args:\n",
    "        tensor (Union[torch.Tensor, Mapping[str, torch.Tensor], Sequence[torch.Tensor]]):\n",
    "            data to move to a device.\n",
    "        device (Union[str, torch.device]): device where should be moved device\n",
    "    Returns:\n",
    "        Union[torch.Tensor, Mapping[str, torch.Tensor], Sequence[torch.Tensor]]:\n",
    "            data moved to a specified device\n",
    "    \"\"\"\n",
    "    if isinstance(tensor, torch.Tensor):\n",
    "        return tensor.to(device)\n",
    "    elif isinstance(tensor, (tuple, list)):\n",
    "        # recursive move to device\n",
    "        return [t2d(_tensor, device) for _tensor in tensor]\n",
    "    elif isinstance(tensor, dict):\n",
    "        res = {}\n",
    "        for _key, _tensor in tensor.items():\n",
    "            res[_key] = t2d(_tensor, device)\n",
    "        return res\n",
    "\n",
    "\n",
    "def seed_all(seed: int = 42):\n",
    "    \"\"\"Fix all seeds.\n",
    "\n",
    "    Args:\n",
    "        seed (int): seed number\n",
    "    \"\"\"\n",
    "    torch.manual_seed(seed)\n",
    "    torch.cuda.manual_seed_all(seed)\n",
    "    random.seed(seed)\n",
    "    np.random.seed(seed)"
   ]
  },
  {
   "cell_type": "code",
   "execution_count": null,
   "metadata": {
    "colab": {},
    "colab_type": "code",
    "id": "BrJmzvY1SSJU"
   },
   "outputs": [],
   "source": [
    "def get_transforms(dataset: str):\n",
    "    \"\"\"Get transforms depends from dataset.\n",
    "    Args:\n",
    "        dataset (str): dataset type (train or valid)\n",
    "    Returns:\n",
    "        dataset transforms\n",
    "    \"\"\"\n",
    "    return Compose([ToTensor(), Normalize((0.1307,), (0.3081,))])\n",
    "\n",
    "\n",
    "def get_loaders(stage: str) -> tuple:\n",
    "    \"\"\"Loaders for a stage.\n",
    "    Args:\n",
    "        stage (str): stage name\n",
    "    Returns:\n",
    "        training and validation loader\n",
    "    \"\"\"\n",
    "    trainset = MNIST(\n",
    "        \"./data\", train=False, download=True, transform=get_transforms(\"train\"),\n",
    "    )\n",
    "    testset = MNIST(\n",
    "        \"./data\", train=False, download=True, transform=get_transforms(\"valid\"),\n",
    "    )\n",
    "    train = DataLoader(trainset, batch_size=64, shuffle=True, num_workers=1)\n",
    "    valid = DataLoader(testset, batch_size=64, shuffle=True, num_workers=1)\n",
    "    return train, valid"
   ]
  },
  {
   "cell_type": "code",
   "execution_count": null,
   "metadata": {
    "colab": {},
    "colab_type": "code",
    "id": "m24UFHwDSS-o"
   },
   "outputs": [],
   "source": [
    "class SimpleNet(nn.Module):\n",
    "    def __init__(self, n_classes: int = 1):\n",
    "        super().__init__()\n",
    "        self.conv1 = nn.Conv2d(1, 20, 5, 1)\n",
    "        self.conv2 = nn.Conv2d(20, 50, 5, 1)\n",
    "        self.fc1 = nn.Linear(4 * 4 * 50, 500)\n",
    "        self.fc2 = nn.Linear(500, n_classes)\n",
    "\n",
    "    def forward(self, x):\n",
    "        x = F.relu(self.conv1(x))\n",
    "        x = F.max_pool2d(x, 2, 2)\n",
    "        x = F.relu(self.conv2(x))\n",
    "        x = F.max_pool2d(x, 2, 2)\n",
    "        x = x.view(-1, 4 * 4 * 50)\n",
    "        x = F.relu(self.fc1(x))\n",
    "        x = self.fc2(x)\n",
    "        return x"
   ]
  },
  {
   "cell_type": "code",
   "execution_count": null,
   "metadata": {
    "colab": {},
    "colab_type": "code",
    "id": "aTmvJfx6SpsK"
   },
   "outputs": [],
   "source": [
    "# source: https://github.com/ZhaoJ9014/face.evoLVe.PyTorch/blob/d5e31893f7e30c0f82262e701463fd83d9725381/head/metrics.py\n",
    "\n",
    "class CosFace(nn.Module):\n",
    "    r\"\"\"Implement of CosFace (https://arxiv.org/pdf/1801.09414.pdf):\n",
    "\n",
    "    Args:\n",
    "        in_features: size of each input sample\n",
    "        out_features: size of each output sample\n",
    "        device_id: the ID of GPU where the model will be trained by model parallel.\n",
    "            if device_id=None, it will be trained on CPU without model parallel.\n",
    "        s: norm of input feature\n",
    "        m: margin\n",
    "        cos(theta)-m\n",
    "    \"\"\"\n",
    "\n",
    "    def __init__(self, in_features, out_features, device_id, s=64.0, m=0.35):\n",
    "        super(CosFace, self).__init__()\n",
    "        self.in_features = in_features\n",
    "        self.out_features = out_features\n",
    "        self.device_id = device_id\n",
    "        self.s = s\n",
    "        self.m = m\n",
    "\n",
    "        self.weight = Parameter(torch.FloatTensor(out_features, in_features))\n",
    "        nn.init.xavier_uniform_(self.weight)\n",
    "\n",
    "    def forward(self, input, label):\n",
    "        # --------------------------- cos(theta) & phi(theta) ---------------------------\n",
    "        if self.device_id is None:\n",
    "            cosine = F.linear(F.normalize(input), F.normalize(self.weight))\n",
    "        else:\n",
    "            x = input\n",
    "            sub_weights = torch.chunk(self.weight, len(self.device_id), dim=0)\n",
    "            temp_x = x.cuda(self.device_id[0])\n",
    "            weight = sub_weights[0].cuda(self.device_id[0])\n",
    "            cosine = F.linear(F.normalize(temp_x), F.normalize(weight))\n",
    "            for i in range(1, len(self.device_id)):\n",
    "                temp_x = x.cuda(self.device_id[i])\n",
    "                weight = sub_weights[i].cuda(self.device_id[i])\n",
    "                cosine = torch.cat(\n",
    "                    (\n",
    "                        cosine,\n",
    "                        F.linear(F.normalize(temp_x), F.normalize(weight)).cuda(\n",
    "                            self.device_id[0]\n",
    "                        ),\n",
    "                    ),\n",
    "                    dim=1,\n",
    "                )\n",
    "        phi = cosine - self.m\n",
    "        # --------------------------- convert label to one-hot ---------------------------\n",
    "        one_hot = torch.zeros(cosine.size()).to(input.device)\n",
    "        if self.device_id is not None:\n",
    "            one_hot = one_hot.cuda(self.device_id[0])\n",
    "        # one_hot = one_hot.cuda() if cosine.is_cuda else one_hot\n",
    "        one_hot.scatter_(1, label.view(-1, 1).long(), 1)\n",
    "        # -------------torch.where(out_i = {x_i if condition_i else y_i) -------------\n",
    "        output = (one_hot * phi) + (\n",
    "            (1.0 - one_hot) * cosine\n",
    "        )  # you can use torch.where if your torch.__version__ is 0.4\n",
    "        output *= self.s\n",
    "\n",
    "        return output"
   ]
  },
  {
   "cell_type": "code",
   "execution_count": null,
   "metadata": {
    "colab": {},
    "colab_type": "code",
    "id": "oOh3YBPDS_JV"
   },
   "outputs": [],
   "source": [
    "class EncoderWithHead(nn.Module):\n",
    "    def __init__(self, encoder: nn.Module, head: nn.Module):\n",
    "        super().__init__()\n",
    "        self.encoder = encoder\n",
    "        self.head = head\n",
    "\n",
    "    def forward(\n",
    "        self, images: torch.tensor, targets: torch.tensor = None\n",
    "    ) -> torch.tensor:\n",
    "        features = self.encoder(images)\n",
    "        if targets is None:\n",
    "            return features\n",
    "        outputs = self.head(features, targets)\n",
    "        return outputs"
   ]
  },
  {
   "cell_type": "code",
   "execution_count": null,
   "metadata": {
    "colab": {
     "base_uri": "https://localhost:8080/",
     "height": 170
    },
    "colab_type": "code",
    "id": "xwZnyknQTMT9",
    "outputId": "503737e7-1dcc-48c8-dec7-87c9a20805ca"
   },
   "outputs": [
    {
     "data": {
      "text/plain": [
       "EncoderWithHead(\n",
       "  (encoder): SimpleNet(\n",
       "    (conv1): Conv2d(1, 20, kernel_size=(5, 5), stride=(1, 1))\n",
       "    (conv2): Conv2d(20, 50, kernel_size=(5, 5), stride=(1, 1))\n",
       "    (fc1): Linear(in_features=800, out_features=500, bias=True)\n",
       "    (fc2): Linear(in_features=500, out_features=2, bias=True)\n",
       "  )\n",
       "  (head): CosFace()\n",
       ")"
      ]
     },
     "execution_count": 8,
     "metadata": {
      "tags": []
     },
     "output_type": "execute_result"
    }
   ],
   "source": [
    "seed_all(2020)\n",
    "\n",
    "model = EncoderWithHead(\n",
    "    encoder=SimpleNet(n_classes=2),\n",
    "    head=CosFace(2, 10, None),\n",
    ")\n",
    "model = model.to(device)\n",
    "optimizer = optim.SGD(model.parameters(), lr=1e-3, momentum=0.9, weight_decay=1e-5)\n",
    "# optimizer = optim.AdamW(model.parameters(), lr=1e-3)\n",
    "criterion = nn.CrossEntropyLoss()\n",
    "\n",
    "model"
   ]
  },
  {
   "cell_type": "code",
   "execution_count": null,
   "metadata": {
    "colab": {
     "base_uri": "https://localhost:8080/",
     "height": 1000
    },
    "colab_type": "code",
    "id": "QWTE500fTsD-",
    "outputId": "ab9f0750-c2df-40e3-a7a0-0c577838c814"
   },
   "outputs": [
    {
     "name": "stdout",
     "output_type": "stream",
     "text": [
      "Epoch 1/100: train - 27.16172, valid - 22.44303 (accuracy - 0.04070)\n",
      "Epoch 2/100: train - 20.82063, valid - 20.43499 (accuracy - 0.15018)\n",
      "Epoch 3/100: train - 19.84465, valid - 19.56613 (accuracy - 0.17207)\n",
      "Epoch 4/100: train - 18.83647, valid - 17.70434 (accuracy - 0.27229)\n",
      "Epoch 5/100: train - 16.78876, valid - 15.22369 (accuracy - 0.33957)\n",
      "Epoch 6/100: train - 15.72196, valid - 14.79430 (accuracy - 0.37799)\n",
      "Epoch 7/100: train - 15.18563, valid - 14.84927 (accuracy - 0.38256)\n",
      "Epoch 8/100: train - 13.93528, valid - 12.94214 (accuracy - 0.43093)\n",
      "Epoch 9/100: train - 13.69110, valid - 13.11814 (accuracy - 0.38037)\n",
      "Epoch 10/100: train - 12.16520, valid - 11.13791 (accuracy - 0.39222)\n",
      "Epoch 11/100: train - 11.57637, valid - 13.60361 (accuracy - 0.13455)\n",
      "Epoch 12/100: train - 13.94544, valid - 12.19414 (accuracy - 0.31648)\n",
      "Epoch 13/100: train - 11.55356, valid - 11.47572 (accuracy - 0.31449)\n",
      "Epoch 14/100: train - 11.68376, valid - 10.66962 (accuracy - 0.39530)\n",
      "Epoch 15/100: train - 10.53733, valid - 10.16752 (accuracy - 0.39809)\n",
      "Epoch 16/100: train - 10.04031, valid - 9.96408 (accuracy - 0.36117)\n",
      "Epoch 17/100: train - 10.07678, valid - 10.67304 (accuracy - 0.35211)\n",
      "Epoch 18/100: train - 12.29532, valid - 10.74281 (accuracy - 0.35977)\n",
      "Epoch 19/100: train - 10.91478, valid - 10.76085 (accuracy - 0.31907)\n",
      "Epoch 20/100: train - 10.36894, valid - 9.97606 (accuracy - 0.37679)\n",
      "Epoch 21/100: train - 10.23443, valid - 9.82542 (accuracy - 0.35062)\n",
      "Epoch 22/100: train - 9.66664, valid - 9.57587 (accuracy - 0.39829)\n",
      "Epoch 23/100: train - 9.54320, valid - 9.44077 (accuracy - 0.38873)\n",
      "Epoch 24/100: train - 9.42682, valid - 9.36522 (accuracy - 0.35002)\n",
      "Epoch 25/100: train - 9.35409, valid - 9.31662 (accuracy - 0.39709)\n",
      "Epoch 26/100: train - 9.31198, valid - 9.25921 (accuracy - 0.36963)\n",
      "Epoch 27/100: train - 9.29496, valid - 9.27246 (accuracy - 0.37580)\n",
      "Epoch 28/100: train - 9.30445, valid - 9.33422 (accuracy - 0.37560)\n",
      "Epoch 29/100: train - 9.25538, valid - 9.19201 (accuracy - 0.40356)\n",
      "Epoch 30/100: train - 9.19246, valid - 9.16560 (accuracy - 0.37291)\n",
      "Epoch 31/100: train - 9.25864, valid - 9.20897 (accuracy - 0.39033)\n",
      "Epoch 32/100: train - 9.91469, valid - 9.96434 (accuracy - 0.37152)\n",
      "Epoch 33/100: train - 9.64219, valid - 9.33277 (accuracy - 0.41640)\n",
      "Epoch 34/100: train - 9.42194, valid - 9.26809 (accuracy - 0.45880)\n",
      "Epoch 35/100: train - 9.23158, valid - 9.13274 (accuracy - 0.40764)\n",
      "Epoch 36/100: train - 9.28995, valid - 9.16803 (accuracy - 0.41123)\n",
      "Epoch 37/100: train - 9.15151, valid - 9.13050 (accuracy - 0.45213)\n",
      "Epoch 38/100: train - 9.12752, valid - 9.09949 (accuracy - 0.38923)\n",
      "Epoch 39/100: train - 9.08050, valid - 9.08392 (accuracy - 0.40008)\n",
      "Epoch 40/100: train - 9.08956, valid - 9.08997 (accuracy - 0.41192)\n",
      "Epoch 41/100: train - 9.09383, valid - 9.06182 (accuracy - 0.39590)\n",
      "Epoch 42/100: train - 9.06506, valid - 9.05072 (accuracy - 0.40645)\n",
      "Epoch 43/100: train - 9.08485, valid - 9.04070 (accuracy - 0.39570)\n",
      "Epoch 44/100: train - 9.05671, valid - 9.03746 (accuracy - 0.47512)\n",
      "Epoch 45/100: train - 9.05653, valid - 9.05266 (accuracy - 0.40008)\n",
      "Epoch 46/100: train - 9.06829, valid - 9.06685 (accuracy - 0.38177)\n",
      "Epoch 47/100: train - 9.07197, valid - 9.04852 (accuracy - 0.39809)\n",
      "Epoch 48/100: train - 9.03946, valid - 9.05699 (accuracy - 0.40018)\n",
      "Epoch 49/100: train - 9.03770, valid - 9.02213 (accuracy - 0.40754)\n",
      "Epoch 50/100: train - 9.05250, valid - 9.03031 (accuracy - 0.40098)\n",
      "Epoch 51/100: train - 9.04069, valid - 9.04382 (accuracy - 0.42178)\n",
      "Epoch 52/100: train - 9.03239, valid - 9.03392 (accuracy - 0.39898)\n",
      "Epoch 53/100: train - 9.03561, valid - 9.04002 (accuracy - 0.40247)\n",
      "Epoch 54/100: train - 9.05109, valid - 9.04136 (accuracy - 0.34743)\n",
      "Epoch 55/100: train - 9.01731, valid - 9.05288 (accuracy - 0.40267)\n",
      "Epoch 56/100: train - 9.03979, valid - 9.02737 (accuracy - 0.40098)\n",
      "Epoch 57/100: train - 9.04335, valid - 9.02782 (accuracy - 0.38903)\n",
      "Epoch 58/100: train - 9.04892, valid - 9.04193 (accuracy - 0.39112)\n",
      "Epoch 59/100: train - 9.03188, valid - 9.02200 (accuracy - 0.40326)\n",
      "Epoch 60/100: train - 9.01241, valid - 9.02580 (accuracy - 0.39461)\n",
      "Epoch 61/100: train - 9.03427, valid - 9.00901 (accuracy - 0.40943)\n",
      "Epoch 62/100: train - 9.02974, valid - 9.02091 (accuracy - 0.37271)\n",
      "Epoch 63/100: train - 9.05067, valid - 9.03816 (accuracy - 0.37848)\n",
      "Epoch 64/100: train - 9.03103, valid - 8.99463 (accuracy - 0.40565)\n",
      "Epoch 65/100: train - 9.00643, valid - 9.02763 (accuracy - 0.38525)\n",
      "Epoch 66/100: train - 9.01279, valid - 9.01351 (accuracy - 0.40725)\n",
      "Epoch 67/100: train - 9.00841, valid - 9.01146 (accuracy - 0.40426)\n",
      "Epoch 68/100: train - 9.01273, valid - 9.02338 (accuracy - 0.40685)\n",
      "Epoch 69/100: train - 9.02596, valid - 9.03983 (accuracy - 0.36077)\n",
      "Epoch 70/100: train - 9.00844, valid - 9.01234 (accuracy - 0.40695)\n",
      "Epoch 71/100: train - 9.01582, valid - 9.00303 (accuracy - 0.40685)\n",
      "Epoch 72/100: train - 9.00830, valid - 9.04550 (accuracy - 0.40496)\n",
      "Epoch 73/100: train - 9.00909, valid - 9.02134 (accuracy - 0.40565)\n",
      "Epoch 74/100: train - 9.00992, valid - 9.00445 (accuracy - 0.40078)\n",
      "Epoch 75/100: train - 9.00419, valid - 9.00528 (accuracy - 0.32932)\n",
      "Epoch 76/100: train - 9.01061, valid - 8.99652 (accuracy - 0.41033)\n",
      "Epoch 77/100: train - 9.00133, valid - 9.01986 (accuracy - 0.40565)\n",
      "Epoch 78/100: train - 9.01146, valid - 9.03457 (accuracy - 0.40625)\n",
      "Epoch 79/100: train - 9.01398, valid - 8.99272 (accuracy - 0.39431)\n",
      "Epoch 80/100: train - 9.01126, valid - 8.99329 (accuracy - 0.40307)\n",
      "Epoch 81/100: train - 9.00277, valid - 8.99127 (accuracy - 0.40914)\n",
      "Epoch 82/100: train - 9.01503, valid - 9.01525 (accuracy - 0.34684)\n",
      "Epoch 83/100: train - 9.01752, valid - 9.01759 (accuracy - 0.40416)\n",
      "Epoch 84/100: train - 9.00264, valid - 9.01827 (accuracy - 0.40754)\n",
      "Epoch 85/100: train - 9.00245, valid - 8.99531 (accuracy - 0.40416)\n",
      "Epoch 86/100: train - 9.03355, valid - 9.02085 (accuracy - 0.38754)\n",
      "Epoch 87/100: train - 8.99769, valid - 9.00844 (accuracy - 0.40356)\n",
      "Epoch 88/100: train - 9.01648, valid - 9.02577 (accuracy - 0.40814)\n",
      "Epoch 89/100: train - 9.01717, valid - 9.01547 (accuracy - 0.37420)\n",
      "Epoch 90/100: train - 9.00268, valid - 9.00505 (accuracy - 0.35977)\n",
      "Epoch 91/100: train - 8.99524, valid - 9.01151 (accuracy - 0.40874)\n",
      "Epoch 92/100: train - 8.99827, valid - 9.00920 (accuracy - 0.31369)\n",
      "Epoch 93/100: train - 8.99266, valid - 8.98592 (accuracy - 0.40934)\n",
      "Epoch 94/100: train - 9.01744, valid - 9.00221 (accuracy - 0.39401)\n",
      "Epoch 95/100: train - 9.00322, valid - 8.99995 (accuracy - 0.35221)\n",
      "Epoch 96/100: train - 8.98517, valid - 9.00769 (accuracy - 0.40884)\n",
      "Epoch 97/100: train - 9.01575, valid - 9.01032 (accuracy - 0.40177)\n",
      "Epoch 98/100: train - 8.98827, valid - 8.98759 (accuracy - 0.29598)\n",
      "Epoch 99/100: train - 9.01118, valid - 9.03082 (accuracy - 0.40834)\n",
      "Epoch 100/100: train - 9.00149, valid - 9.00336 (accuracy - 0.29638)\n"
     ]
    }
   ],
   "source": [
    "train_loader, valid_loader = get_loaders(\"\")\n",
    "n_epochs = 100\n",
    "for epoch in range(1, n_epochs + 1):\n",
    "    model.train()\n",
    "    train_loss = []\n",
    "    for batch in train_loader:\n",
    "        x, y = t2d(batch, device)\n",
    "        output = model(x, y)\n",
    "        loss = criterion(output, y)\n",
    "        train_loss.append(loss.item())\n",
    "        optimizer.zero_grad()\n",
    "        loss.backward()\n",
    "        optimizer.step()\n",
    "    train_loss = np.mean(train_loss)\n",
    "    model.eval()\n",
    "    valid_loss = []\n",
    "    accuracy = []\n",
    "    with torch.no_grad():\n",
    "        for batch in valid_loader:\n",
    "            x, y = t2d(batch, device)\n",
    "            output = model(x, y)\n",
    "            loss = criterion(output, y)\n",
    "            torch.argmax(output)\n",
    "            valid_loss.append(loss.item())\n",
    "            acc = (torch.argmax(output, -1) == y).sum().detach().item()\n",
    "            acc /= y.size(0)\n",
    "            accuracy.append(acc)\n",
    "    valid_loss = np.mean(valid_loss)\n",
    "    accuracy = np.mean(accuracy)\n",
    "    print(f\"Epoch {epoch}/{n_epochs}: train - {train_loss:.5f}, valid - {valid_loss:.5f} (accuracy - {accuracy:.5f})\")"
   ]
  },
  {
   "cell_type": "markdown",
   "metadata": {
    "colab_type": "text",
    "id": "hzN33k04WokJ"
   },
   "source": [
    "### Optimizer comparison:\n",
    "\n",
    "<br> \n",
    "\n",
    "Experiment condions:\n",
    "- batch size - 32\n",
    "- 10 training epochs\n",
    "\n",
    "<br>\n",
    "\n",
    "**SGD** (`optim.SGD(model.parameters(), lr=1e-3, momentum=0.9, weight_decay=1e-5)`):\n",
    "\n",
    "```\n",
    "Epoch 1/10: train - 25.860707743099322, valid - 24.220213604580824\n",
    "Epoch 2/10: train - 24.135685174229046, valid - 24.06319261052806\n",
    "Epoch 3/10: train - 24.007694829386264, valid - 23.65683163199455\n",
    "Epoch 4/10: train - 21.230613254510555, valid - 19.510000295699783\n",
    "Epoch 5/10: train - 18.24166183959181, valid - 15.83586672157239\n",
    "Epoch 6/10: train - 16.142603057641953, valid - 15.002000504997886\n",
    "Epoch 7/10: train - 14.60667576500402, valid - 13.770296449114563\n",
    "Epoch 8/10: train - 14.405042383236626, valid - 15.120483477404163\n",
    "Epoch 9/10: train - 12.356075981554513, valid - 11.354916636351566\n",
    "Epoch 10/10: train - 11.07813187833792, valid - 10.55483238256661\n",
    "```\n",
    "\n",
    "**AdamW** (`optim.AdamW(model.parameters(), lr=1e-3)`):\n",
    "\n",
    "```\n",
    "Epoch 1/10: train - 26.951422941189605, valid - 17.763300494783245\n",
    "Epoch 2/10: train - 16.247190268275837, valid - 15.200867549628969\n",
    "Epoch 3/10: train - 12.85377289921331, valid - 11.459917317530152\n",
    "Epoch 4/10: train - 11.462930143069917, valid - 11.135932667240215\n",
    "Epoch 5/10: train - 11.37271428793764, valid - 10.680025893411818\n",
    "Epoch 6/10: train - 11.000281839705885, valid - 10.708347615163039\n",
    "Epoch 7/10: train - 10.777780182445392, valid - 10.43805091396259\n",
    "Epoch 8/10: train - 10.140783570445002, valid - 9.860301734535557\n",
    "Epoch 9/10: train - 10.310538518923922, valid - 10.062853582345756\n",
    "Epoch 10/10: train - 9.969306366893049, valid - 9.69480768434561\n",
    "```"
   ]
  },
  {
   "cell_type": "code",
   "execution_count": null,
   "metadata": {
    "colab": {
     "base_uri": "https://localhost:8080/",
     "height": 34
    },
    "colab_type": "code",
    "id": "ddEbFH_GVc6n",
    "outputId": "3523a799-0297-4abd-ee48-2d45f3a44cdd"
   },
   "outputs": [
    {
     "data": {
      "text/plain": [
       "((10000, 2), (10000,))"
      ]
     },
     "execution_count": 10,
     "metadata": {
      "tags": []
     },
     "output_type": "execute_result"
    }
   ],
   "source": [
    "valid_set = MNIST(\n",
    "    \"./data\", train=False, download=True, transform=get_transforms(\"valid\"),\n",
    ")\n",
    "valid_loader = DataLoader(valid_set, batch_size=64, shuffle=False, num_workers=1)\n",
    "\n",
    "model.eval()\n",
    "embeddigs, labels = [], []\n",
    "with torch.no_grad():\n",
    "    for batch in valid_loader:\n",
    "        x, y = t2d(batch, device)\n",
    "        output = F.normalize(model(x))\n",
    "        output = output.detach().cpu().numpy()\n",
    "        embeddigs.append(output)\n",
    "        labels.append(y.detach().cpu().numpy())\n",
    "\n",
    "embeddigs = np.concatenate(embeddigs)\n",
    "labels = np.concatenate(labels)\n",
    "\n",
    "embeddigs.shape, labels.shape"
   ]
  },
  {
   "cell_type": "code",
   "execution_count": null,
   "metadata": {
    "colab": {
     "base_uri": "https://localhost:8080/",
     "height": 607
    },
    "colab_type": "code",
    "id": "YixOhDgCZaUz",
    "outputId": "818999ae-7af6-4a3c-c062-d14d406fe4ae"
   },
   "outputs": [
    {
     "data": {
      "image/png": "[encoded data removed]",
      "text/plain": [
       "<Figure size 864x720 with 1 Axes>"
      ]
     },
     "metadata": {
      "needs_background": "light",
      "tags": []
     },
     "output_type": "display_data"
    }
   ],
   "source": [
    "plt.figure(figsize=(12, 10))\n",
    "scatter = plt.scatter(embeddigs[:, 0], embeddigs[:, 1], c=labels)\n",
    "plt.legend(handles=scatter.legend_elements()[0], labels=[str(i) for i in range(10)])\n",
    "plt.title(\"embedding plot\");"
   ]
  },
  {
   "cell_type": "code",
   "execution_count": null,
   "metadata": {
    "colab": {},
    "colab_type": "code",
    "id": "ukKQnfBrZeNx"
   },
   "outputs": [],
   "source": []
  }
 ],
 "metadata": {
  "accelerator": "GPU",
  "colab": {
   "collapsed_sections": [],
   "name": "cosface_on_mnist.ipynb",
   "provenance": []
  },
  "kernelspec": {
   "display_name": "Python 3",
   "language": "python",
   "name": "python3"
  },
  "language_info": {
   "codemirror_mode": {
    "name": "ipython",
    "version": 3
   },
   "file_extension": ".py",
   "mimetype": "text/x-python",
   "name": "python",
   "nbconvert_exporter": "python",
   "pygments_lexer": "ipython3",
   "version": "3.7.4"
  }
 },
 "nbformat": 4,
 "nbformat_minor": 4
}
