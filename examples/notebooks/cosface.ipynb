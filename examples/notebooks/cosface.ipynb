{
 "cells": [
  {
   "cell_type": "code",
   "execution_count": 1,
   "metadata": {},
   "outputs": [],
   "source": [
    "import sys\n",
    "import random\n",
    "\n",
    "import numpy as np\n",
    "\n",
    "import torch\n",
    "import torch.nn as nn\n",
    "import torch.nn.functional as F\n",
    "import torch.optim as optim\n",
    "from torch.utils.data import DataLoader\n",
    "\n",
    "from torchvision.models import resnet18\n",
    "from torchvision.datasets import MNIST\n",
    "from torchvision.transforms import Compose, Normalize, ToTensor\n",
    "\n",
    "import matplotlib.pyplot as plt\n",
    "import seaborn as sbn\n",
    "\n",
    "sbn.set_style(\"darkgrid\")\n",
    "\n",
    "%matplotlib inline"
   ]
  },
  {
   "cell_type": "code",
   "execution_count": 2,
   "metadata": {},
   "outputs": [],
   "source": [
    "sys.path.append(\"../..\")\n",
    "\n",
    "from batteries import t2d, seed_all\n",
    "from batteries.layers import CosFace"
   ]
  },
  {
   "cell_type": "code",
   "execution_count": 3,
   "metadata": {},
   "outputs": [
    {
     "name": "stdout",
     "output_type": "stream",
     "text": [
      "Using 'cuda:0'!\n"
     ]
    }
   ],
   "source": [
    "torch.backends.cudnn.deterministic = True\n",
    "torch.backends.cudnn.benchmark = True\n",
    "\n",
    "device = torch.device(\"cuda:0\" if torch.cuda.is_available() else \"cpu\")\n",
    "\n",
    "print(f\"Using '{device}'!\")"
   ]
  },
  {
   "cell_type": "code",
   "execution_count": 4,
   "metadata": {},
   "outputs": [],
   "source": [
    "def get_transforms(dataset: str):\n",
    "    \"\"\"Get transforms depends from dataset.\n",
    "    Args:\n",
    "        dataset (str): dataset type (train or valid)\n",
    "    Returns:\n",
    "        dataset transforms\n",
    "    \"\"\"\n",
    "    return Compose([ToTensor(), Normalize((0.1307,), (0.3081,))])\n",
    "\n",
    "\n",
    "def get_loaders(stage: str) -> tuple:\n",
    "    \"\"\"Loaders for a stage.\n",
    "    Args:\n",
    "        stage (str): stage name\n",
    "    Returns:\n",
    "        training and validation loader\n",
    "    \"\"\"\n",
    "    trainset = MNIST(\n",
    "        \"./data\", train=False, download=True, transform=get_transforms(\"train\"),\n",
    "    )\n",
    "    testset = MNIST(\n",
    "        \"./data\", train=False, download=True, transform=get_transforms(\"valid\"),\n",
    "    )\n",
    "    train = DataLoader(\n",
    "        trainset,\n",
    "        batch_size=64,\n",
    "        shuffle=True,\n",
    "        num_workers=1,\n",
    "        worker_init_fn=seed_all\n",
    "    )\n",
    "    valid = DataLoader(\n",
    "        testset,\n",
    "        batch_size=64,\n",
    "        shuffle=False,\n",
    "        num_workers=1\n",
    "    )\n",
    "    return train, valid"
   ]
  },
  {
   "cell_type": "code",
   "execution_count": 5,
   "metadata": {},
   "outputs": [],
   "source": [
    "class SimpleNet(nn.Module):\n",
    "    def __init__(self, n_classes: int = 1):\n",
    "        super().__init__()\n",
    "        self.conv1 = nn.Conv2d(1, 20, 5, 1)\n",
    "        self.conv2 = nn.Conv2d(20, 50, 5, 1)\n",
    "        self.fc1 = nn.Linear(4 * 4 * 50, 500)\n",
    "        self.fc2 = nn.Linear(500, n_classes)\n",
    "\n",
    "    def forward(self, x):\n",
    "        x = F.relu(self.conv1(x))\n",
    "        x = F.max_pool2d(x, 2, 2)\n",
    "        x = F.relu(self.conv2(x))\n",
    "        x = F.max_pool2d(x, 2, 2)\n",
    "        x = x.view(-1, 4 * 4 * 50)\n",
    "        x = F.relu(self.fc1(x))\n",
    "        x = self.fc2(x)\n",
    "        return x\n",
    "    \n",
    "\n",
    "class EncoderWithHead(nn.Module):\n",
    "    def __init__(self, encoder: nn.Module, head: nn.Module):\n",
    "        super().__init__()\n",
    "        self.encoder = encoder\n",
    "        self.head = head\n",
    "\n",
    "    def forward(self, images, targets=None):\n",
    "        features = self.encoder(images)\n",
    "        if targets is None:\n",
    "            return features\n",
    "        outputs = self.head(features, targets)\n",
    "        return outputs"
   ]
  },
  {
   "cell_type": "code",
   "execution_count": 6,
   "metadata": {},
   "outputs": [],
   "source": [
    "seed_all(2020)\n",
    "\n",
    "embedding_dim = 2\n",
    "num_classes = 10\n",
    "\n",
    "model = EncoderWithHead(\n",
    "    encoder=SimpleNet(n_classes=embedding_dim),\n",
    "    head=CosFace(embedding_dim, num_classes),\n",
    ")\n",
    "model = model.to(device)\n",
    "\n",
    "optimizer = optim.SGD(model.parameters(), lr=1e-3, momentum=0.9, weight_decay=1e-5)\n",
    "\n",
    "criterion = nn.CrossEntropyLoss()"
   ]
  },
  {
   "cell_type": "code",
   "execution_count": 7,
   "metadata": {},
   "outputs": [
    {
     "name": "stdout",
     "output_type": "stream",
     "text": [
      "Epoch 1/50: train - 27.16165, valid - 22.43618 (accuracy - 0.04070)\n",
      "Epoch 2/50: train - 20.97639, valid - 19.98423 (accuracy - 0.15645)\n",
      "Epoch 3/50: train - 19.79499, valid - 19.46498 (accuracy - 0.17038)\n",
      "Epoch 4/50: train - 18.53401, valid - 17.48343 (accuracy - 0.26971)\n",
      "Epoch 5/50: train - 16.60626, valid - 15.25645 (accuracy - 0.34922)\n",
      "Epoch 6/50: train - 15.63829, valid - 14.96210 (accuracy - 0.36057)\n",
      "Epoch 7/50: train - 14.74813, valid - 14.08541 (accuracy - 0.37540)\n",
      "Epoch 8/50: train - 20.86693, valid - 18.00984 (accuracy - 0.22661)\n",
      "Epoch 9/50: train - 16.83283, valid - 15.27316 (accuracy - 0.35768)\n",
      "Epoch 10/50: train - 15.31014, valid - 15.09364 (accuracy - 0.36973)\n",
      "Epoch 11/50: train - 14.99006, valid - 13.66132 (accuracy - 0.37052)\n",
      "Epoch 12/50: train - 16.69693, valid - 14.19933 (accuracy - 0.36286)\n",
      "Epoch 13/50: train - 13.66779, valid - 12.42403 (accuracy - 0.42745)\n",
      "Epoch 14/50: train - 12.28178, valid - 11.36065 (accuracy - 0.37928)\n",
      "Epoch 15/50: train - 11.45131, valid - 11.62839 (accuracy - 0.28254)\n",
      "Epoch 16/50: train - 11.05454, valid - 10.49559 (accuracy - 0.37281)\n",
      "Epoch 17/50: train - 10.71654, valid - 10.37915 (accuracy - 0.37231)\n",
      "Epoch 18/50: train - 10.35715, valid - 10.26789 (accuracy - 0.29220)\n",
      "Epoch 19/50: train - 10.08168, valid - 9.97157 (accuracy - 0.36107)\n",
      "Epoch 20/50: train - 10.36768, valid - 10.32250 (accuracy - 0.33997)\n",
      "Epoch 21/50: train - 10.20602, valid - 9.87195 (accuracy - 0.34385)\n",
      "Epoch 22/50: train - 9.86932, valid - 9.71962 (accuracy - 0.38366)\n",
      "Epoch 23/50: train - 11.27340, valid - 13.22868 (accuracy - 0.26652)\n",
      "Epoch 24/50: train - 11.57930, valid - 10.22609 (accuracy - 0.38794)\n",
      "Epoch 25/50: train - 10.30499, valid - 10.17414 (accuracy - 0.30802)\n",
      "Epoch 26/50: train - 9.89423, valid - 10.09160 (accuracy - 0.34952)\n",
      "Epoch 27/50: train - 9.95049, valid - 9.88147 (accuracy - 0.32693)\n",
      "Epoch 28/50: train - 9.73731, valid - 9.61281 (accuracy - 0.28115)\n",
      "Epoch 29/50: train - 9.54421, valid - 9.48388 (accuracy - 0.39938)\n",
      "Epoch 30/50: train - 9.55284, valid - 9.46722 (accuracy - 0.36097)\n",
      "Epoch 31/50: train - 9.50729, valid - 9.34128 (accuracy - 0.41381)\n",
      "Epoch 32/50: train - 9.32975, valid - 9.28635 (accuracy - 0.34504)\n",
      "Epoch 33/50: train - 9.29776, valid - 9.45939 (accuracy - 0.29279)\n",
      "Epoch 34/50: train - 9.29025, valid - 9.26508 (accuracy - 0.33738)\n",
      "Epoch 35/50: train - 9.22645, valid - 9.20638 (accuracy - 0.42118)\n",
      "Epoch 36/50: train - 9.21203, valid - 9.18743 (accuracy - 0.43889)\n",
      "Epoch 37/50: train - 9.21208, valid - 9.18145 (accuracy - 0.38824)\n",
      "Epoch 38/50: train - 9.19061, valid - 9.18484 (accuracy - 0.39053)\n",
      "Epoch 39/50: train - 9.15038, valid - 9.14654 (accuracy - 0.40336)\n",
      "Epoch 40/50: train - 9.14415, valid - 9.12294 (accuracy - 0.37968)\n",
      "Epoch 41/50: train - 9.12509, valid - 9.13193 (accuracy - 0.44417)\n",
      "Epoch 42/50: train - 9.14243, valid - 9.12447 (accuracy - 0.40297)\n",
      "Epoch 43/50: train - 9.12240, valid - 9.10859 (accuracy - 0.41242)\n",
      "Epoch 44/50: train - 9.10397, valid - 9.10975 (accuracy - 0.39520)\n",
      "Epoch 45/50: train - 9.10828, valid - 9.10771 (accuracy - 0.41720)\n",
      "Epoch 46/50: train - 9.09217, valid - 9.09757 (accuracy - 0.40187)\n",
      "Epoch 47/50: train - 9.08526, valid - 9.09908 (accuracy - 0.42486)\n",
      "Epoch 48/50: train - 9.10619, valid - 9.09124 (accuracy - 0.40058)\n",
      "Epoch 49/50: train - 9.09071, valid - 9.08071 (accuracy - 0.39908)\n",
      "Epoch 50/50: train - 9.08129, valid - 9.09531 (accuracy - 0.39092)\n"
     ]
    }
   ],
   "source": [
    "train_loader, valid_loader = get_loaders(\"\")\n",
    "n_epochs = 50\n",
    "for epoch in range(1, n_epochs + 1):\n",
    "    model.train()\n",
    "    train_loss = []\n",
    "    for batch in train_loader:\n",
    "        x, y = t2d(batch, device)\n",
    "        output = model(x, y)\n",
    "        loss = criterion(output, y)\n",
    "        train_loss.append(loss.item())\n",
    "        optimizer.zero_grad()\n",
    "        loss.backward()\n",
    "        optimizer.step()\n",
    "    train_loss = np.mean(train_loss)\n",
    "    model.eval()\n",
    "    valid_loss = []\n",
    "    accuracy = []\n",
    "    with torch.no_grad():\n",
    "        for batch in valid_loader:\n",
    "            x, y = t2d(batch, device)\n",
    "            output = model(x, y)\n",
    "            loss = criterion(output, y)\n",
    "            torch.argmax(output)\n",
    "            valid_loss.append(loss.item())\n",
    "            acc = (torch.argmax(output, -1) == y).sum().detach().item()\n",
    "            acc /= y.size(0)\n",
    "            accuracy.append(acc)\n",
    "    valid_loss = np.mean(valid_loss)\n",
    "    accuracy = np.mean(accuracy)\n",
    "    print(f\"Epoch {epoch}/{n_epochs}: train - {train_loss:.5f}, valid - {valid_loss:.5f} (accuracy - {accuracy:.5f})\")"
   ]
  },
  {
   "cell_type": "code",
   "execution_count": 8,
   "metadata": {},
   "outputs": [
    {
     "data": {
      "text/plain": [
       "((10000, 2), (10000,))"
      ]
     },
     "execution_count": 8,
     "metadata": {},
     "output_type": "execute_result"
    }
   ],
   "source": [
    "valid_set = MNIST(\n",
    "    \"./data\",\n",
    "    train=False,\n",
    "    download=True,\n",
    "    transform=get_transforms(\"valid\"),\n",
    ")\n",
    "valid_loader = DataLoader(\n",
    "    valid_set,\n",
    "    batch_size=64,\n",
    "    shuffle=False,\n",
    "    num_workers=1\n",
    ")\n",
    "\n",
    "model.eval()\n",
    "embeddigs, labels = [], []\n",
    "with torch.no_grad():\n",
    "    for batch in valid_loader:\n",
    "        x, y = t2d(batch, device)\n",
    "        output = F.normalize(model(x))\n",
    "        output = output.detach().cpu().numpy()\n",
    "        embeddigs.append(output)\n",
    "        labels.append(y.detach().cpu().numpy())\n",
    "\n",
    "embeddigs = np.concatenate(embeddigs)\n",
    "labels = np.concatenate(labels)\n",
    "\n",
    "embeddigs.shape, labels.shape"
   ]
  },
  {
   "cell_type": "code",
   "execution_count": 9,
   "metadata": {},
   "outputs": [
    {
     "data": {
      "image/png": "[encoded data removed]",
      "text/plain": [
       "<Figure size 864x720 with 1 Axes>"
      ]
     },
     "metadata": {
      "needs_background": "light"
     },
     "output_type": "display_data"
    }
   ],
   "source": [
    "plt.figure(figsize=(12, 10))\n",
    "color_map = {\n",
    "    0: \"black\", 1: \"grey\", 2: \"aqua\", 3: \"blue\", 4: \"pink\",\n",
    "    5: \"purple\", 6: \"red\", 7: \"gold\", 8: \"green\", 9: \"lime\",\n",
    "}\n",
    "for c in range(10):\n",
    "    _map = labels == c\n",
    "    plt.scatter(\n",
    "        embeddigs[_map, 0], embeddigs[_map, 1],\n",
    "        c=[color_map[item] for item in labels[_map]],\n",
    "        alpha=0.6\n",
    "    )\n",
    "plt.legend(labels=[str(i) for i in range(10)])\n",
    "plt.title(\"embedding plot\");"
   ]
  },
  {
   "cell_type": "code",
   "execution_count": null,
   "metadata": {},
   "outputs": [],
   "source": []
  }
 ],
 "metadata": {
  "kernelspec": {
   "display_name": "Python 3.7.4 64-bit ('torch': conda)",
   "language": "python",
   "name": "python37464bittorchcondab46d9803850a4193b40c5aded830a323"
  },
  "language_info": {
   "codemirror_mode": {
    "name": "ipython",
    "version": 3
   },
   "file_extension": ".py",
   "mimetype": "text/x-python",
   "name": "python",
   "nbconvert_exporter": "python",
   "pygments_lexer": "ipython3",
   "version": "3.7.4"
  }
 },
 "nbformat": 4,
 "nbformat_minor": 4
}
